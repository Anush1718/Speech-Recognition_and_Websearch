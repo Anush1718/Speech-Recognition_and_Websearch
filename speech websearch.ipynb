{
 "cells": [
  {
   "cell_type": "code",
   "execution_count": 1,
   "id": "30e64ce1-ad9a-4c5e-9900-282064227a31",
   "metadata": {},
   "outputs": [],
   "source": [
    "import speech_recognition\n",
    "import pyttsx3\n",
    "import webbrowser"
   ]
  },
  {
   "cell_type": "code",
   "execution_count": 2,
   "id": "aac80cab-c17c-4efa-801e-9eb1a52e2470",
   "metadata": {
    "scrolled": true
   },
   "outputs": [
    {
     "name": "stdout",
     "output_type": "stream",
     "text": [
      "Ask me politely...\n",
      "Hearing...\n",
      "You asked to open: www.youtube.com\n"
     ]
    }
   ],
   "source": [
    "sr = speech_recognition.Recognizer()\n",
    "with speech_recognition.Microphone() as source:\n",
    "    \n",
    "    sr.adjust_for_ambient_noise(source)\n",
    "    print(\"Ask me politely...\")\n",
    "\n",
    "    audio = sr.listen(source)\n",
    "    print(\"Hearing...\")\n",
    "try:\n",
    "    destination = sr.recognize_google(audio)\n",
    "    print(\"You asked to open: \" + destination)\n",
    "\n",
    "    # Assuming you want to open URLs, you can prepend \"https://\" if it's not already present\n",
    "    if not destination.startswith(\"https://\") and not destination.startswith(\"http://\"):\n",
    "        destination = \"https://\" + destination\n",
    "\n",
    "    webbrowser.open(destination)\n",
    "except Exception as e:\n",
    "    print(\"Error: \" + str(e))\n",
    "\n",
    "\n",
    "\n",
    "\n",
    "        \n",
    "                "
   ]
  },
  {
   "cell_type": "code",
   "execution_count": null,
   "id": "2b0041b0-16fa-4d4b-bcf5-be91052bf4d6",
   "metadata": {},
   "outputs": [],
   "source": []
  },
  {
   "cell_type": "code",
   "execution_count": null,
   "id": "ad6c1ff1-8827-437d-81af-9289ea4a54a2",
   "metadata": {},
   "outputs": [],
   "source": []
  }
 ],
 "metadata": {
  "kernelspec": {
   "display_name": "Python 3 (ipykernel)",
   "language": "python",
   "name": "python3"
  },
  "language_info": {
   "codemirror_mode": {
    "name": "ipython",
    "version": 3
   },
   "file_extension": ".py",
   "mimetype": "text/x-python",
   "name": "python",
   "nbconvert_exporter": "python",
   "pygments_lexer": "ipython3",
   "version": "3.11.4"
  }
 },
 "nbformat": 4,
 "nbformat_minor": 5
}
